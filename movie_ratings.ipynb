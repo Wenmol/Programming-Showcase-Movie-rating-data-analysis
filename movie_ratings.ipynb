{
 "cells": [
  {
   "cell_type": "markdown",
   "id": "540ed2f9-c538-4762-a6bb-5dde4358247e",
   "metadata": {},
   "source": [
    "Movie Rating Data Analysis by Wendy Molina"
   ]
  },
  {
   "cell_type": "markdown",
   "id": "86308c3d-58b8-4a91-8365-3d736519443f",
   "metadata": {},
   "source": [
    "Data set obtained from Kaggle website:"
   ]
  },
  {
   "cell_type": "markdown",
   "id": "916ca427-6727-4d61-89de-11a54fedda5c",
   "metadata": {},
   "source": [
    "https://www.kaggle.com/datasets/anandshaw2001/movie-rating-dataset"
   ]
  },
  {
   "cell_type": "markdown",
   "id": "b812f9b6-45c3-4517-8ac2-749a9c2f072a",
   "metadata": {},
   "source": [
    "This data set captures the popularity of a movie along with its characters, release date, revenue and more."
   ]
  },
  {
   "cell_type": "markdown",
   "id": "a54aacae-4a57-403a-8dbb-c9f1c54e25fb",
   "metadata": {},
   "source": [
    "My objective in this data analysis is to see if there is a significant correlation between movie budget and popularity rating."
   ]
  },
  {
   "cell_type": "code",
   "execution_count": 118,
   "id": "48d861d0-4f5f-4931-9f8d-68db2923e983",
   "metadata": {},
   "outputs": [],
   "source": [
    "#Load the data file using pandas\n",
    "\n",
    "import pandas as pd\n",
    "import numpy as np"
   ]
  },
  {
   "cell_type": "code",
   "execution_count": 119,
   "id": "96c74359-c344-4cc6-9c40-75e74c960f0c",
   "metadata": {},
   "outputs": [],
   "source": [
    "data = pd.read_csv('tmdb_5000_movies.csv')"
   ]
  },
  {
   "cell_type": "code",
   "execution_count": 120,
   "id": "6d2b3ee6-fe30-4f68-a0d7-530eb43b129e",
   "metadata": {},
   "outputs": [
    {
     "data": {
      "text/html": [
       "<div>\n",
       "<style scoped>\n",
       "    .dataframe tbody tr th:only-of-type {\n",
       "        vertical-align: middle;\n",
       "    }\n",
       "\n",
       "    .dataframe tbody tr th {\n",
       "        vertical-align: top;\n",
       "    }\n",
       "\n",
       "    .dataframe thead th {\n",
       "        text-align: right;\n",
       "    }\n",
       "</style>\n",
       "<table border=\"1\" class=\"dataframe\">\n",
       "  <thead>\n",
       "    <tr style=\"text-align: right;\">\n",
       "      <th></th>\n",
       "      <th>budget</th>\n",
       "      <th>genres</th>\n",
       "      <th>homepage</th>\n",
       "      <th>id</th>\n",
       "      <th>keywords</th>\n",
       "      <th>original_language</th>\n",
       "      <th>original_title</th>\n",
       "      <th>overview</th>\n",
       "      <th>popularity</th>\n",
       "      <th>production_companies</th>\n",
       "      <th>production_countries</th>\n",
       "      <th>release_date</th>\n",
       "      <th>revenue</th>\n",
       "      <th>runtime</th>\n",
       "      <th>spoken_languages</th>\n",
       "      <th>status</th>\n",
       "      <th>tagline</th>\n",
       "      <th>title</th>\n",
       "      <th>vote_average</th>\n",
       "      <th>vote_count</th>\n",
       "    </tr>\n",
       "  </thead>\n",
       "  <tbody>\n",
       "    <tr>\n",
       "      <th>0</th>\n",
       "      <td>237000000</td>\n",
       "      <td>[{\"id\": 28, \"name\": \"Action\"}, {\"id\": 12, \"nam...</td>\n",
       "      <td>http://www.avatarmovie.com/</td>\n",
       "      <td>19995</td>\n",
       "      <td>[{\"id\": 1463, \"name\": \"culture clash\"}, {\"id\":...</td>\n",
       "      <td>en</td>\n",
       "      <td>Avatar</td>\n",
       "      <td>In the 22nd century, a paraplegic Marine is di...</td>\n",
       "      <td>150.437577</td>\n",
       "      <td>[{\"name\": \"Ingenious Film Partners\", \"id\": 289...</td>\n",
       "      <td>[{\"iso_3166_1\": \"US\", \"name\": \"United States o...</td>\n",
       "      <td>2009-12-10</td>\n",
       "      <td>2787965087</td>\n",
       "      <td>162.0</td>\n",
       "      <td>[{\"iso_639_1\": \"en\", \"name\": \"English\"}, {\"iso...</td>\n",
       "      <td>Released</td>\n",
       "      <td>Enter the World of Pandora.</td>\n",
       "      <td>Avatar</td>\n",
       "      <td>7.2</td>\n",
       "      <td>11800</td>\n",
       "    </tr>\n",
       "    <tr>\n",
       "      <th>1</th>\n",
       "      <td>300000000</td>\n",
       "      <td>[{\"id\": 12, \"name\": \"Adventure\"}, {\"id\": 14, \"...</td>\n",
       "      <td>http://disney.go.com/disneypictures/pirates/</td>\n",
       "      <td>285</td>\n",
       "      <td>[{\"id\": 270, \"name\": \"ocean\"}, {\"id\": 726, \"na...</td>\n",
       "      <td>en</td>\n",
       "      <td>Pirates of the Caribbean: At World's End</td>\n",
       "      <td>Captain Barbossa, long believed to be dead, ha...</td>\n",
       "      <td>139.082615</td>\n",
       "      <td>[{\"name\": \"Walt Disney Pictures\", \"id\": 2}, {\"...</td>\n",
       "      <td>[{\"iso_3166_1\": \"US\", \"name\": \"United States o...</td>\n",
       "      <td>2007-05-19</td>\n",
       "      <td>961000000</td>\n",
       "      <td>169.0</td>\n",
       "      <td>[{\"iso_639_1\": \"en\", \"name\": \"English\"}]</td>\n",
       "      <td>Released</td>\n",
       "      <td>At the end of the world, the adventure begins.</td>\n",
       "      <td>Pirates of the Caribbean: At World's End</td>\n",
       "      <td>6.9</td>\n",
       "      <td>4500</td>\n",
       "    </tr>\n",
       "    <tr>\n",
       "      <th>2</th>\n",
       "      <td>245000000</td>\n",
       "      <td>[{\"id\": 28, \"name\": \"Action\"}, {\"id\": 12, \"nam...</td>\n",
       "      <td>http://www.sonypictures.com/movies/spectre/</td>\n",
       "      <td>206647</td>\n",
       "      <td>[{\"id\": 470, \"name\": \"spy\"}, {\"id\": 818, \"name...</td>\n",
       "      <td>en</td>\n",
       "      <td>Spectre</td>\n",
       "      <td>A cryptic message from Bond’s past sends him o...</td>\n",
       "      <td>107.376788</td>\n",
       "      <td>[{\"name\": \"Columbia Pictures\", \"id\": 5}, {\"nam...</td>\n",
       "      <td>[{\"iso_3166_1\": \"GB\", \"name\": \"United Kingdom\"...</td>\n",
       "      <td>2015-10-26</td>\n",
       "      <td>880674609</td>\n",
       "      <td>148.0</td>\n",
       "      <td>[{\"iso_639_1\": \"fr\", \"name\": \"Fran\\u00e7ais\"},...</td>\n",
       "      <td>Released</td>\n",
       "      <td>A Plan No One Escapes</td>\n",
       "      <td>Spectre</td>\n",
       "      <td>6.3</td>\n",
       "      <td>4466</td>\n",
       "    </tr>\n",
       "    <tr>\n",
       "      <th>3</th>\n",
       "      <td>250000000</td>\n",
       "      <td>[{\"id\": 28, \"name\": \"Action\"}, {\"id\": 80, \"nam...</td>\n",
       "      <td>http://www.thedarkknightrises.com/</td>\n",
       "      <td>49026</td>\n",
       "      <td>[{\"id\": 849, \"name\": \"dc comics\"}, {\"id\": 853,...</td>\n",
       "      <td>en</td>\n",
       "      <td>The Dark Knight Rises</td>\n",
       "      <td>Following the death of District Attorney Harve...</td>\n",
       "      <td>112.312950</td>\n",
       "      <td>[{\"name\": \"Legendary Pictures\", \"id\": 923}, {\"...</td>\n",
       "      <td>[{\"iso_3166_1\": \"US\", \"name\": \"United States o...</td>\n",
       "      <td>2012-07-16</td>\n",
       "      <td>1084939099</td>\n",
       "      <td>165.0</td>\n",
       "      <td>[{\"iso_639_1\": \"en\", \"name\": \"English\"}]</td>\n",
       "      <td>Released</td>\n",
       "      <td>The Legend Ends</td>\n",
       "      <td>The Dark Knight Rises</td>\n",
       "      <td>7.6</td>\n",
       "      <td>9106</td>\n",
       "    </tr>\n",
       "    <tr>\n",
       "      <th>4</th>\n",
       "      <td>260000000</td>\n",
       "      <td>[{\"id\": 28, \"name\": \"Action\"}, {\"id\": 12, \"nam...</td>\n",
       "      <td>http://movies.disney.com/john-carter</td>\n",
       "      <td>49529</td>\n",
       "      <td>[{\"id\": 818, \"name\": \"based on novel\"}, {\"id\":...</td>\n",
       "      <td>en</td>\n",
       "      <td>John Carter</td>\n",
       "      <td>John Carter is a war-weary, former military ca...</td>\n",
       "      <td>43.926995</td>\n",
       "      <td>[{\"name\": \"Walt Disney Pictures\", \"id\": 2}]</td>\n",
       "      <td>[{\"iso_3166_1\": \"US\", \"name\": \"United States o...</td>\n",
       "      <td>2012-03-07</td>\n",
       "      <td>284139100</td>\n",
       "      <td>132.0</td>\n",
       "      <td>[{\"iso_639_1\": \"en\", \"name\": \"English\"}]</td>\n",
       "      <td>Released</td>\n",
       "      <td>Lost in our world, found in another.</td>\n",
       "      <td>John Carter</td>\n",
       "      <td>6.1</td>\n",
       "      <td>2124</td>\n",
       "    </tr>\n",
       "  </tbody>\n",
       "</table>\n",
       "</div>"
      ],
      "text/plain": [
       "      budget                                             genres  \\\n",
       "0  237000000  [{\"id\": 28, \"name\": \"Action\"}, {\"id\": 12, \"nam...   \n",
       "1  300000000  [{\"id\": 12, \"name\": \"Adventure\"}, {\"id\": 14, \"...   \n",
       "2  245000000  [{\"id\": 28, \"name\": \"Action\"}, {\"id\": 12, \"nam...   \n",
       "3  250000000  [{\"id\": 28, \"name\": \"Action\"}, {\"id\": 80, \"nam...   \n",
       "4  260000000  [{\"id\": 28, \"name\": \"Action\"}, {\"id\": 12, \"nam...   \n",
       "\n",
       "                                       homepage      id  \\\n",
       "0                   http://www.avatarmovie.com/   19995   \n",
       "1  http://disney.go.com/disneypictures/pirates/     285   \n",
       "2   http://www.sonypictures.com/movies/spectre/  206647   \n",
       "3            http://www.thedarkknightrises.com/   49026   \n",
       "4          http://movies.disney.com/john-carter   49529   \n",
       "\n",
       "                                            keywords original_language  \\\n",
       "0  [{\"id\": 1463, \"name\": \"culture clash\"}, {\"id\":...                en   \n",
       "1  [{\"id\": 270, \"name\": \"ocean\"}, {\"id\": 726, \"na...                en   \n",
       "2  [{\"id\": 470, \"name\": \"spy\"}, {\"id\": 818, \"name...                en   \n",
       "3  [{\"id\": 849, \"name\": \"dc comics\"}, {\"id\": 853,...                en   \n",
       "4  [{\"id\": 818, \"name\": \"based on novel\"}, {\"id\":...                en   \n",
       "\n",
       "                             original_title  \\\n",
       "0                                    Avatar   \n",
       "1  Pirates of the Caribbean: At World's End   \n",
       "2                                   Spectre   \n",
       "3                     The Dark Knight Rises   \n",
       "4                               John Carter   \n",
       "\n",
       "                                            overview  popularity  \\\n",
       "0  In the 22nd century, a paraplegic Marine is di...  150.437577   \n",
       "1  Captain Barbossa, long believed to be dead, ha...  139.082615   \n",
       "2  A cryptic message from Bond’s past sends him o...  107.376788   \n",
       "3  Following the death of District Attorney Harve...  112.312950   \n",
       "4  John Carter is a war-weary, former military ca...   43.926995   \n",
       "\n",
       "                                production_companies  \\\n",
       "0  [{\"name\": \"Ingenious Film Partners\", \"id\": 289...   \n",
       "1  [{\"name\": \"Walt Disney Pictures\", \"id\": 2}, {\"...   \n",
       "2  [{\"name\": \"Columbia Pictures\", \"id\": 5}, {\"nam...   \n",
       "3  [{\"name\": \"Legendary Pictures\", \"id\": 923}, {\"...   \n",
       "4        [{\"name\": \"Walt Disney Pictures\", \"id\": 2}]   \n",
       "\n",
       "                                production_countries release_date     revenue  \\\n",
       "0  [{\"iso_3166_1\": \"US\", \"name\": \"United States o...   2009-12-10  2787965087   \n",
       "1  [{\"iso_3166_1\": \"US\", \"name\": \"United States o...   2007-05-19   961000000   \n",
       "2  [{\"iso_3166_1\": \"GB\", \"name\": \"United Kingdom\"...   2015-10-26   880674609   \n",
       "3  [{\"iso_3166_1\": \"US\", \"name\": \"United States o...   2012-07-16  1084939099   \n",
       "4  [{\"iso_3166_1\": \"US\", \"name\": \"United States o...   2012-03-07   284139100   \n",
       "\n",
       "   runtime                                   spoken_languages    status  \\\n",
       "0    162.0  [{\"iso_639_1\": \"en\", \"name\": \"English\"}, {\"iso...  Released   \n",
       "1    169.0           [{\"iso_639_1\": \"en\", \"name\": \"English\"}]  Released   \n",
       "2    148.0  [{\"iso_639_1\": \"fr\", \"name\": \"Fran\\u00e7ais\"},...  Released   \n",
       "3    165.0           [{\"iso_639_1\": \"en\", \"name\": \"English\"}]  Released   \n",
       "4    132.0           [{\"iso_639_1\": \"en\", \"name\": \"English\"}]  Released   \n",
       "\n",
       "                                          tagline  \\\n",
       "0                     Enter the World of Pandora.   \n",
       "1  At the end of the world, the adventure begins.   \n",
       "2                           A Plan No One Escapes   \n",
       "3                                 The Legend Ends   \n",
       "4            Lost in our world, found in another.   \n",
       "\n",
       "                                      title  vote_average  vote_count  \n",
       "0                                    Avatar           7.2       11800  \n",
       "1  Pirates of the Caribbean: At World's End           6.9        4500  \n",
       "2                                   Spectre           6.3        4466  \n",
       "3                     The Dark Knight Rises           7.6        9106  \n",
       "4                               John Carter           6.1        2124  "
      ]
     },
     "execution_count": 120,
     "metadata": {},
     "output_type": "execute_result"
    }
   ],
   "source": [
    "data.head()"
   ]
  },
  {
   "cell_type": "code",
   "execution_count": 121,
   "id": "d3f64a82-e2cb-4d56-a73f-a98103a17d83",
   "metadata": {},
   "outputs": [
    {
     "name": "stdout",
     "output_type": "stream",
     "text": [
      "<class 'pandas.core.frame.DataFrame'>\n",
      "RangeIndex: 4803 entries, 0 to 4802\n",
      "Data columns (total 20 columns):\n",
      " #   Column                Non-Null Count  Dtype  \n",
      "---  ------                --------------  -----  \n",
      " 0   budget                4803 non-null   int64  \n",
      " 1   genres                4803 non-null   object \n",
      " 2   homepage              1712 non-null   object \n",
      " 3   id                    4803 non-null   int64  \n",
      " 4   keywords              4803 non-null   object \n",
      " 5   original_language     4803 non-null   object \n",
      " 6   original_title        4803 non-null   object \n",
      " 7   overview              4800 non-null   object \n",
      " 8   popularity            4803 non-null   float64\n",
      " 9   production_companies  4803 non-null   object \n",
      " 10  production_countries  4803 non-null   object \n",
      " 11  release_date          4802 non-null   object \n",
      " 12  revenue               4803 non-null   int64  \n",
      " 13  runtime               4801 non-null   float64\n",
      " 14  spoken_languages      4803 non-null   object \n",
      " 15  status                4803 non-null   object \n",
      " 16  tagline               3959 non-null   object \n",
      " 17  title                 4803 non-null   object \n",
      " 18  vote_average          4803 non-null   float64\n",
      " 19  vote_count            4803 non-null   int64  \n",
      "dtypes: float64(3), int64(4), object(13)\n",
      "memory usage: 750.6+ KB\n"
     ]
    }
   ],
   "source": [
    "data.info()"
   ]
  },
  {
   "cell_type": "markdown",
   "id": "a50c9ae1-9174-4281-868b-4a021a454522",
   "metadata": {},
   "source": [
    "We can see that this data has 20 columns, 4804 rows.  The columns have varying data types: float, int and object."
   ]
  },
  {
   "cell_type": "code",
   "execution_count": 122,
   "id": "d6e39007-6248-48ce-9ea3-685dfe07de8b",
   "metadata": {},
   "outputs": [
    {
     "data": {
      "text/plain": [
       "budget                  False\n",
       "genres                  False\n",
       "homepage                 True\n",
       "id                      False\n",
       "keywords                False\n",
       "original_language       False\n",
       "original_title          False\n",
       "overview                 True\n",
       "popularity              False\n",
       "production_companies    False\n",
       "production_countries    False\n",
       "release_date             True\n",
       "revenue                 False\n",
       "runtime                  True\n",
       "spoken_languages        False\n",
       "status                  False\n",
       "tagline                  True\n",
       "title                   False\n",
       "vote_average            False\n",
       "vote_count              False\n",
       "dtype: bool"
      ]
     },
     "execution_count": 122,
     "metadata": {},
     "output_type": "execute_result"
    }
   ],
   "source": [
    "#Checking for null values in the columns:\n",
    "\n",
    "data.isnull().any()"
   ]
  },
  {
   "cell_type": "markdown",
   "id": "3a0dc94e-2c14-4386-9d7f-5a30dec5b52a",
   "metadata": {},
   "source": [
    "We can see that there are null values for the following columns:\n",
    "homepage, overview, release_date, runtime, tagline"
   ]
  },
  {
   "cell_type": "code",
   "execution_count": 123,
   "id": "24dd38de-cba7-44ce-95a9-ff50d57a2f34",
   "metadata": {},
   "outputs": [
    {
     "data": {
      "text/plain": [
       "budget                     0\n",
       "genres                     0\n",
       "homepage                3091\n",
       "id                         0\n",
       "keywords                   0\n",
       "original_language          0\n",
       "original_title             0\n",
       "overview                   3\n",
       "popularity                 0\n",
       "production_companies       0\n",
       "production_countries       0\n",
       "release_date               1\n",
       "revenue                    0\n",
       "runtime                    2\n",
       "spoken_languages           0\n",
       "status                     0\n",
       "tagline                  844\n",
       "title                      0\n",
       "vote_average               0\n",
       "vote_count                 0\n",
       "dtype: int64"
      ]
     },
     "execution_count": 123,
     "metadata": {},
     "output_type": "execute_result"
    }
   ],
   "source": [
    "#The number of null values for each column:\n",
    "\n",
    "data.isnull().sum()"
   ]
  },
  {
   "cell_type": "markdown",
   "id": "09c47159-43a5-4d3a-9b09-36d78ca18971",
   "metadata": {},
   "source": [
    "As you can see, there are a significant amount of null values for the homepage and tagline.  As this information is not relevant to the data analysis I will be conducting I will drop those two columns."
   ]
  },
  {
   "cell_type": "code",
   "execution_count": 124,
   "id": "63341335-47ff-4418-8096-c20b769b65be",
   "metadata": {},
   "outputs": [],
   "source": [
    "data = data.drop(['homepage', 'tagline'], axis = 1)"
   ]
  },
  {
   "cell_type": "code",
   "execution_count": 125,
   "id": "2566897c-23d7-4578-9694-f1510c19cbe5",
   "metadata": {},
   "outputs": [
    {
     "name": "stdout",
     "output_type": "stream",
     "text": [
      "<class 'pandas.core.frame.DataFrame'>\n",
      "RangeIndex: 4803 entries, 0 to 4802\n",
      "Data columns (total 18 columns):\n",
      " #   Column                Non-Null Count  Dtype  \n",
      "---  ------                --------------  -----  \n",
      " 0   budget                4803 non-null   int64  \n",
      " 1   genres                4803 non-null   object \n",
      " 2   id                    4803 non-null   int64  \n",
      " 3   keywords              4803 non-null   object \n",
      " 4   original_language     4803 non-null   object \n",
      " 5   original_title        4803 non-null   object \n",
      " 6   overview              4800 non-null   object \n",
      " 7   popularity            4803 non-null   float64\n",
      " 8   production_companies  4803 non-null   object \n",
      " 9   production_countries  4803 non-null   object \n",
      " 10  release_date          4802 non-null   object \n",
      " 11  revenue               4803 non-null   int64  \n",
      " 12  runtime               4801 non-null   float64\n",
      " 13  spoken_languages      4803 non-null   object \n",
      " 14  status                4803 non-null   object \n",
      " 15  title                 4803 non-null   object \n",
      " 16  vote_average          4803 non-null   float64\n",
      " 17  vote_count            4803 non-null   int64  \n",
      "dtypes: float64(3), int64(4), object(11)\n",
      "memory usage: 675.6+ KB\n"
     ]
    }
   ],
   "source": [
    "data.info()"
   ]
  },
  {
   "cell_type": "code",
   "execution_count": 126,
   "id": "1b4235d9-7707-43b1-9a48-b3b650d98ada",
   "metadata": {},
   "outputs": [],
   "source": [
    "#Drop the records with nulls in any of the remaining columns:\n",
    "\n",
    "data = data.dropna()"
   ]
  },
  {
   "cell_type": "code",
   "execution_count": 127,
   "id": "748ae555-e18d-41c8-9218-a8253acb81b0",
   "metadata": {},
   "outputs": [
    {
     "data": {
      "text/plain": [
       "budget                  0\n",
       "genres                  0\n",
       "id                      0\n",
       "keywords                0\n",
       "original_language       0\n",
       "original_title          0\n",
       "overview                0\n",
       "popularity              0\n",
       "production_companies    0\n",
       "production_countries    0\n",
       "release_date            0\n",
       "revenue                 0\n",
       "runtime                 0\n",
       "spoken_languages        0\n",
       "status                  0\n",
       "title                   0\n",
       "vote_average            0\n",
       "vote_count              0\n",
       "dtype: int64"
      ]
     },
     "execution_count": 127,
     "metadata": {},
     "output_type": "execute_result"
    }
   ],
   "source": [
    "#Checking  null values:\n",
    "\n",
    "data.isnull().sum()"
   ]
  },
  {
   "cell_type": "markdown",
   "id": "38da5ab4-d374-4133-bb7b-506e86ed1634",
   "metadata": {},
   "source": [
    "The two variables I am interested in are 'vote_average' and 'budget', so I will explore these further."
   ]
  },
  {
   "cell_type": "code",
   "execution_count": 128,
   "id": "efcb3ac9-1015-44a5-b0c6-04a312c21b3f",
   "metadata": {},
   "outputs": [],
   "source": [
    "#What are the unique values of 'vote_average'?\n",
    "\n",
    "uni_vote = data['vote_average'].unique()\n",
    "uni_vote.sort()"
   ]
  },
  {
   "cell_type": "code",
   "execution_count": 129,
   "id": "70f90081-6678-4ae1-bde5-6fa04f928292",
   "metadata": {},
   "outputs": [
    {
     "data": {
      "text/plain": [
       "array([ 0. ,  0.5,  1. ,  1.9,  2. ,  2.2,  2.3,  2.4,  2.6,  2.7,  2.8,\n",
       "        2.9,  3. ,  3.1,  3.2,  3.3,  3.4,  3.5,  3.6,  3.7,  3.8,  3.9,\n",
       "        4. ,  4.1,  4.2,  4.3,  4.4,  4.5,  4.6,  4.7,  4.8,  4.9,  5. ,\n",
       "        5.1,  5.2,  5.3,  5.4,  5.5,  5.6,  5.7,  5.8,  5.9,  6. ,  6.1,\n",
       "        6.2,  6.3,  6.4,  6.5,  6.6,  6.7,  6.8,  6.9,  7. ,  7.1,  7.2,\n",
       "        7.3,  7.4,  7.5,  7.6,  7.7,  7.8,  7.9,  8. ,  8.1,  8.2,  8.3,\n",
       "        8.4,  8.5,  9.3,  9.5, 10. ])"
      ]
     },
     "execution_count": 129,
     "metadata": {},
     "output_type": "execute_result"
    }
   ],
   "source": [
    "uni_vote"
   ]
  },
  {
   "cell_type": "markdown",
   "id": "ca2f6dd6-f62e-4fed-9577-8c923492303b",
   "metadata": {},
   "source": [
    "This tells us that the votes are scored with a range of values from 0-10."
   ]
  },
  {
   "cell_type": "code",
   "execution_count": 130,
   "id": "39274d25-a938-42c6-80d0-f95619417c3b",
   "metadata": {},
   "outputs": [],
   "source": [
    "#What is the range of budgets for the included movies?\n",
    "\n",
    "uni_budg = data['budget'].unique()\n",
    "uni_budg.sort()"
   ]
  },
  {
   "cell_type": "code",
   "execution_count": 131,
   "id": "b897e6e4-08bd-4874-bedc-154fe46a2710",
   "metadata": {},
   "outputs": [
    {
     "data": {
      "text/plain": [
       "array([        0,         1,         3,         4,         7,         8,\n",
       "              10,        11,        13,        15,        25,        28,\n",
       "              30,       100,       108,       110,       200,       218,\n",
       "             250,       500,       650,      7000,      8000,      9000,\n",
       "           10000,     12000,     15000,     20000,     22000,     27000,\n",
       "           31192,     46000,     50000,     56000,     60000,     62000,\n",
       "           65000,     70000,     75000,     85000,    100000,    114000,\n",
       "          120000,    125000,    130000,    134005,    150000,    160000,\n",
       "          180000,    200000,    210000,    220000,    225000,    230000,\n",
       "          245000,    250000,    300000,    312000,    325000,    350000,\n",
       "          379000,    385907,    400000,    439000,    450000,    500000,\n",
       "          522360,    550000,    560000,    600000,    609000,    625000,\n",
       "          650000,    700000,    730000,    750000,    777000,    780000,\n",
       "          800000,    806948,    850000,    852510,    858000,    860000,\n",
       "          878000,    900000,    910000,    930000,    950000,    967686,\n",
       "         1000000,   1100000,   1200000,   1250000,   1288000,   1300000,\n",
       "         1344000,   1350000,   1377800,   1400000,   1455000,   1488423,\n",
       "         1493619,   1500000,   1530000,   1596010,   1600000,   1644736,\n",
       "         1650000,   1700000,   1800000,   1900000,   1950000,   1987650,\n",
       "         2000000,   2053648,   2090000,   2100000,   2159280,   2160000,\n",
       "         2200000,   2280000,   2300000,   2361000,   2380000,   2400000,\n",
       "         2450000,   2500000,   2540800,   2600000,   2627000,   2686000,\n",
       "         2700000,   2777000,   2800000,   2883848,   2900000,   2902660,\n",
       "         2962051,   3000000,   3100000,   3150000,   3180000,   3200000,\n",
       "         3250000,   3300000,   3400000,   3440000,   3500000,   3500159,\n",
       "         3600000,   3700000,   3705538,   3716946,   3730500,   3768785,\n",
       "         3800000,   3850000,   3860000,   3900000,   3950000,   4000000,\n",
       "         4100000,   4200000,   4300000,   4361898,   4400000,   4500000,\n",
       "         4600000,   4638783,   4700000,   4798235,   4800000,   4900000,\n",
       "         5000000,   5100000,   5300000,   5500000,   5600000,   5800000,\n",
       "         5952000,   6000000,   6244087,   6400000,   6500000,   6600000,\n",
       "         6800000,   6900000,   7000000,   7200000,   7300000,   7347125,\n",
       "         7400000,   7500000,   7700000,   7800000,   8000000,   8200000,\n",
       "         8250000,   8500000,   8700000,   8800000,   8900000,   9000000,\n",
       "         9250000,   9300000,   9400000,   9500000,   9600000,  10000000,\n",
       "        10200000,  10284523,  10500000,  10700000,  10800000,  11000000,\n",
       "        11500000,  12000000,  12300000,  12305523,  12400000,  12500000,\n",
       "        12516654,  12600000,  12716953,  12800000,  12806000,  12899867,\n",
       "        13000000,  13200000,  13300000,  13400000,  13500000,  13800000,\n",
       "        14000000,  14100000,  14200000,  14350531,  14500000,  14600000,\n",
       "        14800000,  15000000,  15238800,  15300000,  15500000,  15600000,\n",
       "        16000000,  16400000,  16500000,  16800000,  17000000,  17500000,\n",
       "        17700000,  17900000,  18000000,  18339750,  18500000,  19000000,\n",
       "        19100000,  19400000,  19500000,  19800000,  20000000,  20500000,\n",
       "        21000000,  21150000,  21500000,  22000000,  22500000,  22700000,\n",
       "        23000000,  23600000,  24000000,  25000000,  25100000,  25485000,\n",
       "        25500000,  25530000,  26000000,  26500000,  27000000,  27220000,\n",
       "        27500000,  28000000,  29000000,  30000000,  30250000,  31000000,\n",
       "        31115000,  31500000,  32000000,  32350000,  32500000,  33000000,\n",
       "        34000000,  34200000,  35000000,  35866397,  36000000,  36500000,\n",
       "        37000000,  38000000,  39000000,  39200000,  40000000,  40600000,\n",
       "        41000000,  41300000,  41677699,  42000000,  43000000,  44000000,\n",
       "        44500000,  45000000,  46000000,  47000000,  48000000,  49000000,\n",
       "        49900000,  50000000,  50100000,  50200000,  51000000,  51500000,\n",
       "        52000000,  52500000,  53000000,  54000000,  55000000,  56000000,\n",
       "        57000000,  58000000,  58800000,  59000000,  60000000,  61000000,\n",
       "        62000000,  63000000,  63600000,  64000000,  65000000,  66000000,\n",
       "        67000000,  68000000,  68490000,  69000000,  70000000,  71000000,\n",
       "        72000000,  72500000,  73000000,  74000000,  74500000,  75000000,\n",
       "        76000000,  78000000,  78146652,  79000000,  80000000,  80341000,\n",
       "        82000000,  82500000,  83000000,  84000000,  85000000,  86000000,\n",
       "        87000000,  88000000,  90000000,  92000000,  92620000,  93000000,\n",
       "        94000000,  95000000,  97250400,  98000000,  99000000, 100000000,\n",
       "       102000000, 103000000, 105000000, 107000000, 108000000, 110000000,\n",
       "       112000000, 113000000, 115000000, 116000000, 117000000, 120000000,\n",
       "       123000000, 125000000, 126000000, 127000000, 127500000, 130000000,\n",
       "       132000000, 133000000, 135000000, 137000000, 139000000, 140000000,\n",
       "       144000000, 145000000, 149000000, 150000000, 155000000, 160000000,\n",
       "       165000000, 170000000, 175000000, 176000003, 178000000, 180000000,\n",
       "       185000000, 190000000, 195000000, 200000000, 207000000, 209000000,\n",
       "       210000000, 215000000, 220000000, 225000000, 237000000, 245000000,\n",
       "       250000000, 255000000, 258000000, 260000000, 270000000, 280000000,\n",
       "       300000000, 380000000], dtype=int64)"
      ]
     },
     "execution_count": 131,
     "metadata": {},
     "output_type": "execute_result"
    }
   ],
   "source": [
    "uni_budg"
   ]
  },
  {
   "cell_type": "code",
   "execution_count": 132,
   "id": "6a77e792-1e00-4bdd-80ca-56c1fdfefa98",
   "metadata": {},
   "outputs": [],
   "source": [
    "#This is useful information, it tells us that budgets vary from $0 to $380,000,000"
   ]
  },
  {
   "cell_type": "code",
   "execution_count": 133,
   "id": "5268f897-ad76-4a79-99e6-74d22db99631",
   "metadata": {},
   "outputs": [],
   "source": [
    "#For the purpose of this data analysis, I will remove any movies with a budget of less than $1000"
   ]
  },
  {
   "cell_type": "code",
   "execution_count": 134,
   "id": "f14b6bba-dfb6-4cd9-8825-2f4a667cffb9",
   "metadata": {},
   "outputs": [],
   "source": [
    "data = data.drop(data[data['budget'] < 1000].index)"
   ]
  },
  {
   "cell_type": "code",
   "execution_count": 135,
   "id": "3e3dd44b-8298-4e87-9127-42699beda19f",
   "metadata": {},
   "outputs": [
    {
     "data": {
      "text/plain": [
       "array([     7000,      8000,      9000,     10000,     12000,     15000,\n",
       "           20000,     22000,     27000,     31192,     46000,     50000,\n",
       "           56000,     60000,     62000,     65000,     70000,     75000,\n",
       "           85000,    100000,    114000,    120000,    125000,    130000,\n",
       "          134005,    150000,    160000,    180000,    200000,    210000,\n",
       "          220000,    225000,    230000,    245000,    250000,    300000,\n",
       "          312000,    325000,    350000,    379000,    385907,    400000,\n",
       "          439000,    450000,    500000,    522360,    550000,    560000,\n",
       "          600000,    609000,    625000,    650000,    700000,    730000,\n",
       "          750000,    777000,    780000,    800000,    806948,    850000,\n",
       "          852510,    858000,    860000,    878000,    900000,    910000,\n",
       "          930000,    950000,    967686,   1000000,   1100000,   1200000,\n",
       "         1250000,   1288000,   1300000,   1344000,   1350000,   1377800,\n",
       "         1400000,   1455000,   1488423,   1493619,   1500000,   1530000,\n",
       "         1596010,   1600000,   1644736,   1650000,   1700000,   1800000,\n",
       "         1900000,   1950000,   1987650,   2000000,   2053648,   2090000,\n",
       "         2100000,   2159280,   2160000,   2200000,   2280000,   2300000,\n",
       "         2361000,   2380000,   2400000,   2450000,   2500000,   2540800,\n",
       "         2600000,   2627000,   2686000,   2700000,   2777000,   2800000,\n",
       "         2883848,   2900000,   2902660,   2962051,   3000000,   3100000,\n",
       "         3150000,   3180000,   3200000,   3250000,   3300000,   3400000,\n",
       "         3440000,   3500000,   3500159,   3600000,   3700000,   3705538,\n",
       "         3716946,   3730500,   3768785,   3800000,   3850000,   3860000,\n",
       "         3900000,   3950000,   4000000,   4100000,   4200000,   4300000,\n",
       "         4361898,   4400000,   4500000,   4600000,   4638783,   4700000,\n",
       "         4798235,   4800000,   4900000,   5000000,   5100000,   5300000,\n",
       "         5500000,   5600000,   5800000,   5952000,   6000000,   6244087,\n",
       "         6400000,   6500000,   6600000,   6800000,   6900000,   7000000,\n",
       "         7200000,   7300000,   7347125,   7400000,   7500000,   7700000,\n",
       "         7800000,   8000000,   8200000,   8250000,   8500000,   8700000,\n",
       "         8800000,   8900000,   9000000,   9250000,   9300000,   9400000,\n",
       "         9500000,   9600000,  10000000,  10200000,  10284523,  10500000,\n",
       "        10700000,  10800000,  11000000,  11500000,  12000000,  12300000,\n",
       "        12305523,  12400000,  12500000,  12516654,  12600000,  12716953,\n",
       "        12800000,  12806000,  12899867,  13000000,  13200000,  13300000,\n",
       "        13400000,  13500000,  13800000,  14000000,  14100000,  14200000,\n",
       "        14350531,  14500000,  14600000,  14800000,  15000000,  15238800,\n",
       "        15300000,  15500000,  15600000,  16000000,  16400000,  16500000,\n",
       "        16800000,  17000000,  17500000,  17700000,  17900000,  18000000,\n",
       "        18339750,  18500000,  19000000,  19100000,  19400000,  19500000,\n",
       "        19800000,  20000000,  20500000,  21000000,  21150000,  21500000,\n",
       "        22000000,  22500000,  22700000,  23000000,  23600000,  24000000,\n",
       "        25000000,  25100000,  25485000,  25500000,  25530000,  26000000,\n",
       "        26500000,  27000000,  27220000,  27500000,  28000000,  29000000,\n",
       "        30000000,  30250000,  31000000,  31115000,  31500000,  32000000,\n",
       "        32350000,  32500000,  33000000,  34000000,  34200000,  35000000,\n",
       "        35866397,  36000000,  36500000,  37000000,  38000000,  39000000,\n",
       "        39200000,  40000000,  40600000,  41000000,  41300000,  41677699,\n",
       "        42000000,  43000000,  44000000,  44500000,  45000000,  46000000,\n",
       "        47000000,  48000000,  49000000,  49900000,  50000000,  50100000,\n",
       "        50200000,  51000000,  51500000,  52000000,  52500000,  53000000,\n",
       "        54000000,  55000000,  56000000,  57000000,  58000000,  58800000,\n",
       "        59000000,  60000000,  61000000,  62000000,  63000000,  63600000,\n",
       "        64000000,  65000000,  66000000,  67000000,  68000000,  68490000,\n",
       "        69000000,  70000000,  71000000,  72000000,  72500000,  73000000,\n",
       "        74000000,  74500000,  75000000,  76000000,  78000000,  78146652,\n",
       "        79000000,  80000000,  80341000,  82000000,  82500000,  83000000,\n",
       "        84000000,  85000000,  86000000,  87000000,  88000000,  90000000,\n",
       "        92000000,  92620000,  93000000,  94000000,  95000000,  97250400,\n",
       "        98000000,  99000000, 100000000, 102000000, 103000000, 105000000,\n",
       "       107000000, 108000000, 110000000, 112000000, 113000000, 115000000,\n",
       "       116000000, 117000000, 120000000, 123000000, 125000000, 126000000,\n",
       "       127000000, 127500000, 130000000, 132000000, 133000000, 135000000,\n",
       "       137000000, 139000000, 140000000, 144000000, 145000000, 149000000,\n",
       "       150000000, 155000000, 160000000, 165000000, 170000000, 175000000,\n",
       "       176000003, 178000000, 180000000, 185000000, 190000000, 195000000,\n",
       "       200000000, 207000000, 209000000, 210000000, 215000000, 220000000,\n",
       "       225000000, 237000000, 245000000, 250000000, 255000000, 258000000,\n",
       "       260000000, 270000000, 280000000, 300000000, 380000000], dtype=int64)"
      ]
     },
     "execution_count": 135,
     "metadata": {},
     "output_type": "execute_result"
    }
   ],
   "source": [
    "uni_budg = data['budget'].unique()\n",
    "uni_budg.sort()\n",
    "uni_budg"
   ]
  },
  {
   "cell_type": "code",
   "execution_count": 136,
   "id": "798dd405-adfe-47c5-bce7-648ebede5179",
   "metadata": {},
   "outputs": [],
   "source": [
    "#Movies with less than $1000 budget were successfully removed"
   ]
  },
  {
   "cell_type": "code",
   "execution_count": 137,
   "id": "b9f0fb8f-0df6-4af7-b8e0-9b332ce71aa3",
   "metadata": {},
   "outputs": [],
   "source": [
    "#To simplify the data, I changed the budget column to 'millions'\n",
    "\n",
    "\n",
    "data['budget'] = data['budget'].div(1000000)\n",
    "data = data.rename(columns={'budget': 'budget_millions'})\n"
   ]
  },
  {
   "cell_type": "code",
   "execution_count": 138,
   "id": "a8cdbca5-7393-4d19-8ef9-45da82c54d29",
   "metadata": {},
   "outputs": [
    {
     "data": {
      "text/plain": [
       "0       237.000\n",
       "1       300.000\n",
       "2       245.000\n",
       "3       250.000\n",
       "4       260.000\n",
       "         ...   \n",
       "4788      0.012\n",
       "4792      0.020\n",
       "4796      0.007\n",
       "4798      0.220\n",
       "4799      0.009\n",
       "Name: budget_millions, Length: 3732, dtype: float64"
      ]
     },
     "execution_count": 138,
     "metadata": {},
     "output_type": "execute_result"
    }
   ],
   "source": [
    "data['budget_millions']"
   ]
  },
  {
   "cell_type": "code",
   "execution_count": 139,
   "id": "2d3f40e1-131d-4377-833f-10fba3d8598b",
   "metadata": {},
   "outputs": [],
   "source": [
    "import matplotlib.pyplot as plt"
   ]
  },
  {
   "cell_type": "code",
   "execution_count": 140,
   "id": "6f1170a4-4411-49c1-a5ee-dc9865360493",
   "metadata": {},
   "outputs": [
    {
     "data": {
      "text/plain": [
       "Text(0.5, 1.0, 'Movie Ratings')"
      ]
     },
     "execution_count": 140,
     "metadata": {},
     "output_type": "execute_result"
    },
    {
     "data": {
      "image/png": "[encoded data removed]",
      "text/plain": [
       "<Figure size 640x480 with 1 Axes>"
      ]
     },
     "metadata": {},
     "output_type": "display_data"
    }
   ],
   "source": [
    "#Histogram for ratings\n",
    "\n",
    "data.hist(column='vote_average');\n",
    "plt.ylabel('Frequency of the rating');\n",
    "plt.xlabel('Average rating');\n",
    "plt.title('Movie Ratings')"
   ]
  },
  {
   "cell_type": "code",
   "execution_count": 141,
   "id": "3411ca3d-6e10-4397-9dcc-8f71fa802567",
   "metadata": {},
   "outputs": [],
   "source": [
    "#This histogram shows that majority of the average ratings are between 5 - 7"
   ]
  },
  {
   "cell_type": "code",
   "execution_count": 142,
   "id": "573c998f-6526-4d9a-9c6f-ad962a4e1711",
   "metadata": {},
   "outputs": [
    {
     "data": {
      "text/plain": [
       "Text(0.5, 1.0, 'Budget')"
      ]
     },
     "execution_count": 142,
     "metadata": {},
     "output_type": "execute_result"
    },
    {
     "data": {
      "image/png": "[encoded data removed]",
      "text/plain": [
       "<Figure size 640x480 with 1 Axes>"
      ]
     },
     "metadata": {},
     "output_type": "display_data"
    }
   ],
   "source": [
    "#Histogram for budget\n",
    "\n",
    "data.hist(column='budget_millions');\n",
    "plt.ylabel('Amount of movies with this budget');\n",
    "plt.xlabel('Budget in millions');\n",
    "plt.title('Budget')"
   ]
  },
  {
   "cell_type": "code",
   "execution_count": 144,
   "id": "06868bed-448b-4420-a477-7e97cc293afc",
   "metadata": {},
   "outputs": [],
   "source": [
    "#This histogram demonstrates that the majority of films had a budget up to 7 million dollars"
   ]
  },
  {
   "cell_type": "code",
   "execution_count": 145,
   "id": "11e32fc5-4925-42aa-b245-996b983b88bc",
   "metadata": {},
   "outputs": [
    {
     "data": {
      "text/plain": [
       "count    3732.000000\n",
       "mean       37.376048\n",
       "std        42.695890\n",
       "min         0.007000\n",
       "25%         8.650000\n",
       "50%        23.800000\n",
       "75%        50.000000\n",
       "max       380.000000\n",
       "Name: budget_millions, dtype: float64"
      ]
     },
     "execution_count": 145,
     "metadata": {},
     "output_type": "execute_result"
    }
   ],
   "source": [
    "data['budget_millions'].describe()"
   ]
  },
  {
   "cell_type": "code",
   "execution_count": 146,
   "id": "a38c7cdb-ae90-43c5-a1ae-711c83c6a2a7",
   "metadata": {},
   "outputs": [],
   "source": [
    "#The average budget is around 37 million dollars"
   ]
  },
  {
   "cell_type": "code",
   "execution_count": 147,
   "id": "369dc565-03ba-423f-8a7b-17371a82988a",
   "metadata": {},
   "outputs": [
    {
     "data": {
      "text/plain": [
       "0    20.0\n",
       "Name: budget_millions, dtype: float64"
      ]
     },
     "execution_count": 147,
     "metadata": {},
     "output_type": "execute_result"
    }
   ],
   "source": [
    "data['budget_millions'].mode()"
   ]
  },
  {
   "cell_type": "code",
   "execution_count": 148,
   "id": "32f3c17d-ced6-4307-9689-f432b549e5b4",
   "metadata": {},
   "outputs": [],
   "source": [
    "#The mode of budgets is 20 million\n",
    "#This indicates that there are outliers that are skewing the data\n",
    "#I will use the Interquartile Rule to find outliers"
   ]
  },
  {
   "cell_type": "code",
   "execution_count": 149,
   "id": "a3edf0cd-b458-4690-96b4-da4f6882d853",
   "metadata": {},
   "outputs": [],
   "source": [
    "#Interquartile range:\n",
    "\n",
    "#50-8.65 = 41.35\n",
    "\n",
    "#Multiply the interquartile range (IQR) by 1.5 (a constant used to discern outliers).\n",
    "\n",
    "#41.35*1.5 = 62.025\n",
    "\n",
    "#Add this to the third quartlie, any number greater than this is a suspected outlier.\n",
    "\n",
    "#50 + 62.025 = 112.025\n",
    "\n",
    "#Any budget higher than around 112 million is a suspected outlier\n",
    "\n"
   ]
  },
  {
   "cell_type": "code",
   "execution_count": 151,
   "id": "3c074d49-691f-49fa-8d32-bbe363d2b4e0",
   "metadata": {},
   "outputs": [
    {
     "data": {
      "text/plain": [
       "(3732, 18)"
      ]
     },
     "execution_count": 151,
     "metadata": {},
     "output_type": "execute_result"
    }
   ],
   "source": [
    "data.shape"
   ]
  },
  {
   "cell_type": "code",
   "execution_count": 152,
   "id": "3dbaebe5-7b86-4ab4-b139-6b0e844b9bad",
   "metadata": {},
   "outputs": [],
   "source": [
    "#Delete rows with outliers:\n",
    "\n",
    "drop_budg_outliers = (data['budget_millions'] > 112)\n",
    "data = data[~drop_budg_outliers]"
   ]
  },
  {
   "cell_type": "code",
   "execution_count": 153,
   "id": "7158acce-f6c6-4494-a93e-19caab451da7",
   "metadata": {},
   "outputs": [
    {
     "data": {
      "text/plain": [
       "(3486, 18)"
      ]
     },
     "execution_count": 153,
     "metadata": {},
     "output_type": "execute_result"
    }
   ],
   "source": [
    "data.shape"
   ]
  },
  {
   "cell_type": "code",
   "execution_count": 154,
   "id": "5ee721c2-6631-4ae5-a1e5-6da716d00324",
   "metadata": {},
   "outputs": [],
   "source": [
    "#The amount of outliers dropped were 246"
   ]
  },
  {
   "cell_type": "code",
   "execution_count": 155,
   "id": "61c87804-00db-483c-8476-258e763f83fa",
   "metadata": {},
   "outputs": [
    {
     "data": {
      "text/plain": [
       "Text(0.5, 1.0, 'Budget')"
      ]
     },
     "execution_count": 155,
     "metadata": {},
     "output_type": "execute_result"
    },
    {
     "data": {
      "image/png": "[encoded data removed]",
      "text/plain": [
       "<Figure size 640x480 with 1 Axes>"
      ]
     },
     "metadata": {},
     "output_type": "display_data"
    }
   ],
   "source": [
    "#Lets look at the Histogram for budget again now that the outliers are removed\n",
    "\n",
    "data.hist(column='budget_millions');\n",
    "plt.ylabel('Amount of movies with this budget');\n",
    "plt.xlabel('Budget in millions');\n",
    "plt.title('Budget')"
   ]
  },
  {
   "cell_type": "code",
   "execution_count": 156,
   "id": "a12f007d-647f-4695-9e3a-9cdb45567c33",
   "metadata": {},
   "outputs": [],
   "source": [
    "#This shows a distribution with a right skew, which reflects the mode of 20 million more accurately"
   ]
  },
  {
   "cell_type": "code",
   "execution_count": 159,
   "id": "e76772f7-434d-42c5-a69d-9c07078783dc",
   "metadata": {},
   "outputs": [
    {
     "data": {
      "text/plain": [
       "<Axes: xlabel='vote_average', ylabel='budget_millions'>"
      ]
     },
     "execution_count": 159,
     "metadata": {},
     "output_type": "execute_result"
    },
    {
     "data": {
      "image/png": "[encoded data removed]",
      "text/plain": [
       "<Figure size 640x480 with 1 Axes>"
      ]
     },
     "metadata": {},
     "output_type": "display_data"
    }
   ],
   "source": [
    "#Now let's look at the correlation between average votes and budget to answer the question 'does the budget of a flim have an effect on its popularity?'\n",
    "\n",
    "import seaborn as sns\n",
    "\n",
    "sns.regplot(data=data, x='vote_average',y='budget_millions')"
   ]
  },
  {
   "cell_type": "code",
   "execution_count": 160,
   "id": "151510b0-dbc6-44f3-9a00-266bdcd2bed9",
   "metadata": {},
   "outputs": [
    {
     "data": {
      "text/html": [
       "<div>\n",
       "<style scoped>\n",
       "    .dataframe tbody tr th:only-of-type {\n",
       "        vertical-align: middle;\n",
       "    }\n",
       "\n",
       "    .dataframe tbody tr th {\n",
       "        vertical-align: top;\n",
       "    }\n",
       "\n",
       "    .dataframe thead th {\n",
       "        text-align: right;\n",
       "    }\n",
       "</style>\n",
       "<table border=\"1\" class=\"dataframe\">\n",
       "  <thead>\n",
       "    <tr style=\"text-align: right;\">\n",
       "      <th></th>\n",
       "      <th>vote_average</th>\n",
       "      <th>budget_millions</th>\n",
       "    </tr>\n",
       "  </thead>\n",
       "  <tbody>\n",
       "    <tr>\n",
       "      <th>vote_average</th>\n",
       "      <td>1.000000</td>\n",
       "      <td>-0.052864</td>\n",
       "    </tr>\n",
       "    <tr>\n",
       "      <th>budget_millions</th>\n",
       "      <td>-0.052864</td>\n",
       "      <td>1.000000</td>\n",
       "    </tr>\n",
       "  </tbody>\n",
       "</table>\n",
       "</div>"
      ],
      "text/plain": [
       "                 vote_average  budget_millions\n",
       "vote_average         1.000000        -0.052864\n",
       "budget_millions     -0.052864         1.000000"
      ]
     },
     "execution_count": 160,
     "metadata": {},
     "output_type": "execute_result"
    }
   ],
   "source": [
    "data[['vote_average', 'budget_millions']].corr()"
   ]
  },
  {
   "cell_type": "code",
   "execution_count": 162,
   "id": "81336eba-71df-4751-88e6-eca72dc9f386",
   "metadata": {},
   "outputs": [],
   "source": [
    "#From the graph and the correlation value of -0.052 we can see:  \n",
    "#there is not significant linear relationship (correlation) between budget and average votes (popularity)"
   ]
  },
  {
   "cell_type": "code",
   "execution_count": null,
   "id": "165e7098-f789-4489-8e79-cc38baba5676",
   "metadata": {},
   "outputs": [],
   "source": []
  }
 ],
 "metadata": {
  "kernelspec": {
   "display_name": "Python 3 (ipykernel)",
   "language": "python",
   "name": "python3"
  },
  "language_info": {
   "codemirror_mode": {
    "name": "ipython",
    "version": 3
   },
   "file_extension": ".py",
   "mimetype": "text/x-python",
   "name": "python",
   "nbconvert_exporter": "python",
   "pygments_lexer": "ipython3",
   "version": "3.11.5"
  }
 },
 "nbformat": 4,
 "nbformat_minor": 5
}
